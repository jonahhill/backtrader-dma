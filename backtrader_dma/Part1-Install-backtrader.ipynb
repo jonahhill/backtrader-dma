{
 "cells": [
  {
   "cell_type": "markdown",
   "metadata": {},
   "source": [
    "<img src=\"https://www.quantrocket.com/assets/img/notebook-header-logo.png\">"
   ]
  },
  {
   "cell_type": "markdown",
   "metadata": {},
   "source": [
    "# Install backtrader\n",
    "\n",
    "The `satellite` service allows you to install any packages you may need to run your custom scripts. To run backtrader, we'll install the `backtrader` package using `pip`.\n",
    "\n",
    "The file [quantrocket.satellite.pip.txt](quantrocket.satellite.pip.txt) is a pip requirements file which contains the package we wish to install. We can specify one package per line, in any format pip understands.\n",
    "\n",
    "This file should be placed in the root `/codeload` directory; you can run this command to copy it there (appending to any existing file if already present):\n"
   ]
  },
  {
   "cell_type": "code",
   "execution_count": 1,
   "metadata": {},
   "outputs": [],
   "source": [
    "!cat quantrocket.satellite.pip.txt >> /codeload/quantrocket.satellite.pip.txt"
   ]
  },
  {
   "cell_type": "markdown",
   "metadata": {},
   "source": [
    "To get the `satellite` container to see and install the files, use the Python API to execute a command inside the container: \n",
    "\n",
    "> Tip: Open the detailed logs first to monitor the installation messages"
   ]
  },
  {
   "cell_type": "code",
   "execution_count": 2,
   "metadata": {},
   "outputs": [
    {
     "data": {
      "text/plain": [
       "{'status': 'success'}"
      ]
     },
     "execution_count": 2,
     "metadata": {},
     "output_type": "execute_result"
    }
   ],
   "source": [
    "from quantrocket.satellite import execute_command\n",
    "execute_command('/opt/quantrocket/bin/install-packages')"
   ]
  },
  {
   "cell_type": "markdown",
   "metadata": {},
   "source": [
    "***\n",
    "\n",
    "## *Next Up*\n",
    "\n",
    "Part 2: [Collect data](Part2-Collect-Data.ipynb)"
   ]
  }
 ],
 "metadata": {
  "kernelspec": {
   "display_name": "Python 3",
   "language": "python",
   "name": "python3"
  },
  "language_info": {
   "codemirror_mode": {
    "name": "ipython",
    "version": 3
   },
   "file_extension": ".py",
   "mimetype": "text/x-python",
   "name": "python",
   "nbconvert_exporter": "python",
   "pygments_lexer": "ipython3",
   "version": "3.6.6"
  }
 },
 "nbformat": 4,
 "nbformat_minor": 2
}
